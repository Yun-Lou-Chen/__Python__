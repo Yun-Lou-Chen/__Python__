{
 "cells": [
  {
   "cell_type": "code",
   "execution_count": 10,
   "metadata": {},
   "outputs": [
    {
     "name": "stdout",
     "output_type": "stream",
     "text": [
      "Scores = 105.0\n"
     ]
    }
   ],
   "source": [
    "\n",
    "a = int(input(\"Input Scores (300) =\"))\n",
    "if a < 300:\n",
    "    is_add = input(\"add 5% ? y n\") \n",
    "    if (is_add == 'y' or  is_add == 'Y'):\n",
    "        a=a*1.05\n",
    "        if a>300:\n",
    "            a=300\n",
    "    print(f\"Scores = {a}\")        \n",
    "else:\n",
    "    print('Error {a} > 300 ')        \n",
    "   \n",
    "\n",
    " \n",
    "        "
   ]
  }
 ],
 "metadata": {
  "kernelspec": {
   "display_name": "Python 3",
   "language": "python",
   "name": "python3"
  },
  "language_info": {
   "codemirror_mode": {
    "name": "ipython",
    "version": 3
   },
   "file_extension": ".py",
   "mimetype": "text/x-python",
   "name": "python",
   "nbconvert_exporter": "python",
   "pygments_lexer": "ipython3",
   "version": "3.10.13"
  }
 },
 "nbformat": 4,
 "nbformat_minor": 2
}
