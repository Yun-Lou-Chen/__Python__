{
 "cells": [
  {
   "cell_type": "code",
   "execution_count": 30,
   "metadata": {},
   "outputs": [
    {
     "name": "stdout",
     "output_type": "stream",
     "text": [
      "Error 23423423 > 300 \n",
      "Scores = 23423423\n"
     ]
    }
   ],
   "source": [
    "\n",
    "\n",
    "\n",
    "while 1:\n",
    "    try:\n",
    "        a = int(input(\"Input Scores (300) =\"))\n",
    "        if a == 0:\n",
    "           break  \n",
    "        else:\n",
    "            if a > 300:\n",
    "                print(f'Error {a} > 300 ')\n",
    "            else:\n",
    "                if(a < 0):\n",
    "                    print(f'Error {a} > 0 ')\n",
    "\n",
    "    except ValueError:\n",
    "        print(\"Error 1\")\n",
    "    except TypeError:\n",
    "        print(\"Error 2\")\n",
    "    except:\n",
    "        print(\"error 3\")  \n",
    "    else:    \n",
    "        is_add = input(\"add 5% ? y n\") \n",
    "        if (is_add == 'y' or  is_add == 'Y'):\n",
    "            a=a*1.05\n",
    "            if a>300:\n",
    "                a=300\n",
    "        print(f\"Scores = {a}\")        \n",
    "        break\n",
    "if a == 0:\n",
    "   print('user end')\n",
    "\n",
    "   \n",
    "\n",
    " \n",
    "        "
   ]
  },
  {
   "cell_type": "code",
   "execution_count": 42,
   "metadata": {},
   "outputs": [
    {
     "name": "stdout",
     "output_type": "stream",
     "text": [
      "Input Scores (0~300) =250\n",
      "add 5% ? y n\n",
      "Scores = 250\n"
     ]
    }
   ],
   "source": [
    "a=0\n",
    "import pyinputplus as pyip\n",
    "while True:\n",
    "    a = pyip.inputNum(prompt='Input Scores (0~300) =',min=0,max=300)\n",
    "    print(a)\n",
    "    if a == 0:\n",
    "        break\n",
    "    is_add =  pyip.inputYesNo(prompt =\"add 5% ? y n\", yesVal='y', noVal='n', caseSensitive=False, blank=True, default='n') \n",
    "    print(is_add)\n",
    "    if (is_add == 'y'):\n",
    "        a=a*1.05\n",
    "        if a>300:\n",
    "            a=300\n",
    "    print(f\"Scores = {a}\")        \n",
    "    break\n",
    "if a == 0:\n",
    "   print('user end')\n",
    "\n"
   ]
  },
  {
   "cell_type": "code",
   "execution_count": 44,
   "metadata": {},
   "outputs": [
    {
     "name": "stdout",
     "output_type": "stream",
     "text": [
      "Input Scores (0~300) =80\n",
      "優\n"
     ]
    }
   ],
   "source": [
    "import pyinputplus as pyip\n",
    "s = pyip.inputNum(prompt='Input Scores (0~100) =',min=0,max=100)\n",
    "print(s)\n",
    "if (s >= 80):\n",
    "    print('優')\n",
    "else:\n",
    "    if (s >= 60):\n",
    "        print('及格')\n",
    "    else:\n",
    "        print('不及格')\n"
   ]
  }
 ],
 "metadata": {
  "kernelspec": {
   "display_name": "Python 3",
   "language": "python",
   "name": "python3"
  },
  "language_info": {
   "codemirror_mode": {
    "name": "ipython",
    "version": 3
   },
   "file_extension": ".py",
   "mimetype": "text/x-python",
   "name": "python",
   "nbconvert_exporter": "python",
   "pygments_lexer": "ipython3",
   "version": "3.10.13"
  }
 },
 "nbformat": 4,
 "nbformat_minor": 2
}
