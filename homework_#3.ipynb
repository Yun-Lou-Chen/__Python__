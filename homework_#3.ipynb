{
 "cells": [
  {
   "cell_type": "code",
   "execution_count": 5,
   "metadata": {},
   "outputs": [
    {
     "name": "stdout",
     "output_type": "stream",
     "text": [
      "請輸入收縮壓:135\n",
      "請輸入舒張壓:89\n",
      "高血壓一期\n"
     ]
    }
   ],
   "source": [
    "# 2023-12-03\n",
    "\n",
    "import pyinputplus as pyip\n",
    "suggestion = ['正常','血壓深高','高血壓一期','高血壓二期','單純收縮期高血壓']\n",
    "\n",
    "sbp = pyip.inputInt(\"請輸入收縮壓:\")\n",
    "print(sbp)\n",
    "dbp = pyip.inputInt(\"請輸入舒張壓:\")\n",
    "print(dbp)\n",
    "# suggestion = \"\"\n",
    "flag = 0\n",
    "if (sbp >=140 or dbp >= 90): \n",
    "    flag = 3\n",
    "else:\n",
    "    if dbp < 80:\n",
    "        if sbp < 120:\n",
    "            flag = 0\n",
    "        elif sbp < 130:\n",
    "            flag = 1\n",
    "        else:\n",
    "            flag = 4\n",
    "    else:\n",
    "        flag = 2\n",
    "print(suggestion[flag])\n",
    "\n",
    "\n",
    "\n",
    "      \n",
    "                    \n"
   ]
  }
 ],
 "metadata": {
  "kernelspec": {
   "display_name": "Python 3",
   "language": "python",
   "name": "python3"
  },
  "language_info": {
   "codemirror_mode": {
    "name": "ipython",
    "version": 3
   },
   "file_extension": ".py",
   "mimetype": "text/x-python",
   "name": "python",
   "nbconvert_exporter": "python",
   "pygments_lexer": "ipython3",
   "version": "3.10.13"
  }
 },
 "nbformat": 4,
 "nbformat_minor": 2
}
