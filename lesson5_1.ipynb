{
 "cells": [
  {
   "cell_type": "code",
   "execution_count": 6,
   "metadata": {},
   "outputs": [
    {
     "name": "stdout",
     "output_type": "stream",
     "text": [
      "輸入分數(0~100)"
     ]
    }
   ],
   "source": [
    "import pyinputplus as pyip\n",
    "\n",
    "s = pyip.inputInt('輸入分數(0~100)',max=100,min=0)\n",
    "print(s)\n",
    "if s>79:\n",
    "    print('優')\n",
    "else:\n",
    "    if s > 59:\n",
    "        print('及格')\n",
    "    else:\n",
    "        print('不及格')"
   ]
  }
 ],
 "metadata": {
  "kernelspec": {
   "display_name": "Python 3",
   "language": "python",
   "name": "python3"
  },
  "language_info": {
   "codemirror_mode": {
    "name": "ipython",
    "version": 3
   },
   "file_extension": ".py",
   "mimetype": "text/x-python",
   "name": "python",
   "nbconvert_exporter": "python",
   "pygments_lexer": "ipython3",
   "version": "3.10.13"
  }
 },
 "nbformat": 4,
 "nbformat_minor": 2
}
