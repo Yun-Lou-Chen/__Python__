{
 "cells": [
  {
   "cell_type": "code",
   "execution_count": 1,
   "metadata": {},
   "outputs": [
    {
     "name": "stdout",
     "output_type": "stream",
     "text": [
      "請輸第1月份的存款:"
     ]
    },
    {
     "name": "stdout",
     "output_type": "stream",
     "text": [
      "3531\n",
      "請輸第2月份的存款:31231\n",
      "恭喜!已經存夠了,共存了2月,總存款為34762\n"
     ]
    }
   ],
   "source": [
    "#小明想要存錢買一輛機車,機車每輛30000元，他將每月存的錢輸入，當存款足夠買機車時，就顯示提示訊息告知。\n",
    "#不知道執行的次數\n",
    "import pyinputplus as pyip\n",
    "\n",
    "num = 0\n",
    "deposit = 0\n",
    "while(deposit < 30000):\n",
    "    num += 1\n",
    "    month_value = pyip.inputInt(f\"請輸第{num}月份的存款:\")\n",
    "    print(month_value)\n",
    "    deposit += month_value\n",
    "\n",
    "print(f\"恭喜!已經存夠了,共存了{num}月,總存款為{deposit}\")"
   ]
  },
  {
   "cell_type": "code",
   "execution_count": 3,
   "metadata": {},
   "outputs": [
    {
     "name": "stdout",
     "output_type": "stream",
     "text": [
      "請輸入學生成績:Number must be at maximum 100.\n",
      "請輸入學生成績:Number must be at maximum 100.\n",
      "請輸入學生成績:98\n",
      "請輸入學生成績:45\n",
      "請輸入學生成績:\n",
      "學生總分為:143\n"
     ]
    }
   ],
   "source": [
    "#小美是一位教師，請你以while迴圈方式為小美設計一個輸入成績的程式，如果輸入負數表示成績輸入結束，在輸入成績結束後顯示班上總成績及平均成績。\n",
    "import pyinputplus as pyip\n",
    "inputValue = 0\n",
    "sum = 0\n",
    "while(inputValue >= 0):    \n",
    "    inputValue = pyip.inputInt(\"請輸入學生成績:\",max=100,min=0,blank=True)\n",
    "    print(inputValue)\n",
    "    if inputValue == '':\n",
    "        break\n",
    "    if inputValue >= 0:\n",
    "        sum += inputValue\n",
    "print(f\"學生總分為:{sum}\")"
   ]
  },
  {
   "cell_type": "code",
   "execution_count": 9,
   "metadata": {},
   "outputs": [
    {
     "name": "stdout",
     "output_type": "stream",
     "text": [
      "(空白結束)\n",
      "1請輸入學生成績: 58\n",
      "(空白結束)\n",
      "2請輸入學生成績: 25\n",
      "(空白結束)\n",
      "3請輸入學生成績: 56\n",
      "(空白結束)\n",
      "4請輸入學生成績: '99k' is not an integer.\n",
      "(空白結束)\n",
      "4請輸入學生成績: Number must be at maximum 100.\n",
      "(空白結束)\n",
      "4請輸入學生成績: 78\n",
      "(空白結束)\n",
      "5請輸入學生成績: 58\n",
      "(空白結束)\n",
      "6請輸入學生成績: Number must be at maximum 100.\n",
      "(空白結束)\n",
      "6請輸入學生成績: Number must be at maximum 100.\n",
      "(空白結束)\n",
      "6請輸入學生成績: 47\n",
      "(空白結束)\n",
      "7請輸入學生成績: 14\n",
      "(空白結束)\n",
      "8請輸入學生成績: 69\n",
      "(空白結束)\n",
      "9請輸入學生成績: \n",
      "-----\n",
      "學生總分為: 405,\n",
      "學生人數為: 8 人,\n",
      "學生平均為: 50.62\n"
     ]
    }
   ],
   "source": [
    "# 小美是一位教師，請你以while迴圈方式為小美設計一個輸入成績的程式，\n",
    "# 如果輸入負數表示成績輸入結束，在輸入成績結束後顯示班上總成績及平均成績。\n",
    "''' \n",
    "# yunlou 重點筆記\n",
    "# pip install PyInputPlus \n",
    "# blank=True 可以按 enter '空' 的結束\n",
    "# \\r\\n 強迫換行\n",
    "\n",
    "'''\n",
    "\n",
    "import pyinputplus as pyip\n",
    "sum = 0\n",
    "num = 0\n",
    "while(True):    \n",
    "    inputValue = pyip.inputInt(f\"(空白結束)\\r\\n{num+1}請輸入學生成績: \",max=100,min=0,blank=True)\n",
    "    if inputValue == '':\n",
    "        break\n",
    "\n",
    "    print(inputValue)       \n",
    "\n",
    "    num += 1 \n",
    "    sum += inputValue\n",
    "print()\n",
    "print('-----')\n",
    "if num>1:\n",
    "    print(f'學生總分為: {sum},')\n",
    "    print(f'學生人數為: {num} 人,')      \n",
    "    print(f'學生平均為: {round(sum/num,2):5.2f}')\n",
    "else:\n",
    "    print(\"沒有輸入直接結束\")"
   ]
  },
  {
   "cell_type": "code",
   "execution_count": 13,
   "metadata": {},
   "outputs": [
    {
     "name": "stdout",
     "output_type": "stream",
     "text": [
      "不做事\n",
      "5的平方是25 \n",
      "應用程式結束\n"
     ]
    }
   ],
   "source": [
    "#顯示:\n",
    "#奇數輸出平方\n",
    "#偶數不做任何動作\n",
    "#'q'要離開\n",
    "while(True):\n",
    "    value = input(\"請輸入整數,輸入[q]離開:\")\n",
    "    if value == 'q':\n",
    "        break\n",
    "    try:\n",
    "        valueInt = int(value)\n",
    "    except:\n",
    "        print(\"輸入錯誤,請重新輸入\")\n",
    "        continue\n",
    "    \n",
    "    if (valueInt % 2) == 1:\n",
    "        print(f\"{valueInt}的平方是{valueInt ** 2} \")\n",
    "    else:\n",
    "        print(\"不做事\")\n",
    "\n",
    "print(\"應用程式結束\")"
   ]
  },
  {
   "cell_type": "code",
   "execution_count": 17,
   "metadata": {},
   "outputs": [
    {
     "name": "stdout",
     "output_type": "stream",
     "text": [
      "輸入[q]離開 \n",
      "請輸入整數 :'q' is not an integer.\n",
      "輸入[q]離開 \n",
      "請輸入整數 :'q' is not an integer.\n",
      "輸入[q]離開 \n",
      "請輸入整數 :\n",
      "45的平方是2025 \n",
      "輸入[q]離開 \n",
      "請輸入整數 :\n",
      "1的平方是1 \n",
      "輸入[q]離開 \n",
      "請輸入整數 :'Q' is not an integer.\n",
      "輸入[q]離開 \n",
      "請輸入整數 :"
     ]
    }
   ],
   "source": [
    "#顯示:\n",
    "#奇數輸出平方\n",
    "#偶數不做任何動作\n",
    "#'q'要離開\n",
    "\n",
    "''' \n",
    "# yunlou 重點筆記\n",
    "# pip install PyInputPlus \n",
    "# blank=True 可以按 enter '空' 的結束\n",
    "# \\r\\n 強迫換行\n",
    "# allowRegexes=[r'(q)+']  ==> 只能按 'q'加enter結束\n",
    "'''\n",
    "\n",
    "\n",
    "import pyinputplus as pyip\n",
    "while(True):\n",
    "    value = pyip.inputInt(\"輸入[q]離開 \\r\\n請輸入整數 :\",allowRegexes=[r'(q)+'])\n",
    "    if value == 'q':\n",
    "        break\n",
    "    try:\n",
    "        valueInt = int(value)\n",
    "    except:\n",
    "        print(\"輸入錯誤,請重新輸入\")\n",
    "        continue\n",
    "    \n",
    "    print()\n",
    "    if (valueInt % 2) == 1:\n",
    "        print(f\"{valueInt}的平方是{valueInt ** 2} \")\n",
    "    else:\n",
    "        print(\"不做事\")\n",
    "print('\\r\\n')\n",
    "print(\"\\r\\n應用程式結束\")"
   ]
  },
  {
   "cell_type": "code",
   "execution_count": 17,
   "metadata": {},
   "outputs": [
    {
     "name": "stdout",
     "output_type": "stream",
     "text": [
      "請輸入整數,輸入[q]離開:'kl' is not an integer.\n",
      "請輸入整數,輸入[q]離開:'k8k' is not an integer.\n",
      "請輸入整數,輸入[q]離開:'kjl' is not an integer.\n",
      "請輸入整數,輸入[q]離開:\n",
      "8 是偶數,不用做事\n",
      "請輸入整數,輸入[q]離開:\n",
      "7 的平方是 49 \n",
      "請輸入整數,輸入[q]離開:\n",
      "應用程式結束\n"
     ]
    }
   ],
   "source": [
    "#顯示:\n",
    "#奇數輸出平方\n",
    "#偶數不做任何動作\n",
    "#'q'要離開\n",
    "import pyinputplus as pyip\n",
    "while(True):\n",
    "    value = pyip.inputInt(\"請輸入整數,輸入[q]離開:\",allowRegexes=[r'(q)+'],blank=True)\n",
    "    if value == 'q' or value == '':\n",
    "        break\n",
    "    \n",
    "    print()\n",
    "    if (value % 2) == 1:\n",
    "        print(f\"{value} 的平方是 {value ** 2} \")\n",
    "    else:\n",
    "        print(f'{value} 是偶數,不用做事')\n",
    "print()\n",
    "print(\"應用程式結束\")"
   ]
  },
  {
   "cell_type": "code",
   "execution_count": null,
   "metadata": {},
   "outputs": [],
   "source": [
    "import pyinputplus as pyip\n",
    "# aa= pyip.inputNum(blockRegexes=[r\"[0-9]qQ$\"])\n",
    "aa = pyip.inputNum('input: ', allowRegexes=[r'(q)+'])\n",
    "print(aa)\n",
    "\n"
   ]
  }
 ],
 "metadata": {
  "kernelspec": {
   "display_name": "Python 3",
   "language": "python",
   "name": "python3"
  },
  "language_info": {
   "codemirror_mode": {
    "name": "ipython",
    "version": 3
   },
   "file_extension": ".py",
   "mimetype": "text/x-python",
   "name": "python",
   "nbconvert_exporter": "python",
   "pygments_lexer": "ipython3",
   "version": "3.10.13"
  }
 },
 "nbformat": 4,
 "nbformat_minor": 2
}
