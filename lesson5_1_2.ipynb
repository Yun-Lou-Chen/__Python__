{
 "cells": [
  {
   "cell_type": "code",
   "execution_count": 1,
   "metadata": {},
   "outputs": [
    {
     "name": "stdout",
     "output_type": "stream",
     "text": [
      "輸入分數(0~100)75\n",
      "乙\n"
     ]
    }
   ],
   "source": [
    "import pyinputplus as pyip\n",
    "\n",
    "s = pyip.inputInt('輸入分數(0~100)',max=100,min=0)\n",
    "print(s)\n",
    "if s>=90:\n",
    "    print('優')\n",
    "elif s>= 80:\n",
    "    print('甲')\n",
    "elif s>=70:\n",
    "    print('乙')\n",
    "elif s>=60:\n",
    "    print('丙')\n",
    "else:\n",
    "    print('丁')"
   ]
  }
 ],
 "metadata": {
  "kernelspec": {
   "display_name": "Python 3",
   "language": "python",
   "name": "python3"
  },
  "language_info": {
   "codemirror_mode": {
    "name": "ipython",
    "version": 3
   },
   "file_extension": ".py",
   "mimetype": "text/x-python",
   "name": "python",
   "nbconvert_exporter": "python",
   "pygments_lexer": "ipython3",
   "version": "3.10.13"
  }
 },
 "nbformat": 4,
 "nbformat_minor": 2
}
