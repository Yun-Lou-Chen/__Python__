{
 "cells": [
  {
   "cell_type": "code",
   "execution_count": 7,
   "metadata": {},
   "outputs": [
    {
     "name": "stdout",
     "output_type": "stream",
     "text": [
      "輸入銷售金額銷售金額 $130000 ,打折後應付金額 $104000\n"
     ]
    }
   ],
   "source": [
    "# 2023-12-03\n",
    "#  輸入顧客購買金額，若金額在\n",
    "# 100000元打8折.\n",
    "# 50000打85折.\n",
    "# 30000打9折.\n",
    "# 10000打95折.\n",
    "# \n",
    "\n",
    "import pyinputplus as pyip\n",
    "\n",
    "sale = pyip.inputInt('輸入銷售金額',min=0)\n",
    "rate = 1\n",
    "if sale>=100000:\n",
    "    rate = 0.8 \n",
    "elif sale>= 50000:\n",
    "    rate = 0.85\n",
    "elif sale>= 30000:\n",
    "    rate = 0.9\n",
    "elif sale>= 10000:\n",
    "    rate = 0.95\n",
    "print(f'銷售金額 ${sale}',end='')\n",
    "if rate == 1:\n",
    "   print()\n",
    "else:\n",
    "    print(f' ,打折後應付金額 ${round(sale*rate)}')\n",
    "\n",
    "\n"
   ]
  }
 ],
 "metadata": {
  "kernelspec": {
   "display_name": "Python 3",
   "language": "python",
   "name": "python3"
  },
  "language_info": {
   "codemirror_mode": {
    "name": "ipython",
    "version": 3
   },
   "file_extension": ".py",
   "mimetype": "text/x-python",
   "name": "python",
   "nbconvert_exporter": "python",
   "pygments_lexer": "ipython3",
   "version": "3.10.13"
  }
 },
 "nbformat": 4,
 "nbformat_minor": 2
}
