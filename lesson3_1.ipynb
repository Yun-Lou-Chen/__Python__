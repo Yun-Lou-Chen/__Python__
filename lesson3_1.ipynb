{
 "cells": [
  {
   "cell_type": "code",
   "execution_count": 2,
   "metadata": {},
   "outputs": [
    {
     "ename": "NameError",
     "evalue": "name 'sdf' is not defined",
     "output_type": "error",
     "traceback": [
      "\u001b[0;31m---------------------------------------------------------------------------\u001b[0m",
      "\u001b[0;31mNameError\u001b[0m                                 Traceback (most recent call last)",
      "\u001b[1;32m/workspaces/__Python__/lesson3_1.ipynb Cell 1\u001b[0m line \u001b[0;36m2\n\u001b[1;32m      <a href='vscode-notebook-cell://codespaces%2Bsilver-space-zebra-g445wqwp4wxr3vjrp/workspaces/__Python__/lesson3_1.ipynb#W0sdnNjb2RlLXJlbW90ZQ%3D%3D?line=0'>1</a>\u001b[0m a \u001b[39m=\u001b[39m [\u001b[39m34\u001b[39m,\u001b[39m56\u001b[39m,\u001b[39m78\u001b[39m,\u001b[39m55\u001b[39m,\u001b[39m44\u001b[39m,\u001b[39m33\u001b[39m,\u001b[39m656\u001b[39m,\u001b[39m33\u001b[39m,\u001b[39m77\u001b[39m,\u001b[39m33\u001b[39m,\u001b[39m656\u001b[39m]\n\u001b[0;32m----> <a href='vscode-notebook-cell://codespaces%2Bsilver-space-zebra-g445wqwp4wxr3vjrp/workspaces/__Python__/lesson3_1.ipynb#W0sdnNjb2RlLXJlbW90ZQ%3D%3D?line=1'>2</a>\u001b[0m b \u001b[39m=\u001b[39m {sdf,sdf,sdfss,sdfsdf,sdfsdfs}\n\u001b[1;32m      <a href='vscode-notebook-cell://codespaces%2Bsilver-space-zebra-g445wqwp4wxr3vjrp/workspaces/__Python__/lesson3_1.ipynb#W0sdnNjb2RlLXJlbW90ZQ%3D%3D?line=2'>3</a>\u001b[0m \u001b[39mfor\u001b[39;00m i \u001b[39min\u001b[39;00m a:\n\u001b[1;32m      <a href='vscode-notebook-cell://codespaces%2Bsilver-space-zebra-g445wqwp4wxr3vjrp/workspaces/__Python__/lesson3_1.ipynb#W0sdnNjb2RlLXJlbW90ZQ%3D%3D?line=3'>4</a>\u001b[0m     \u001b[39mprint\u001b[39m(i)\n",
      "\u001b[0;31mNameError\u001b[0m: name 'sdf' is not defined"
     ]
    }
   ],
   "source": [
    "a = [34,56,78,55,44,33,656,33,77,33,656]\n",
    "for i in a:\n",
    "    print(i)\n",
    " "
   ]
  }
 ],
 "metadata": {
  "kernelspec": {
   "display_name": "Python 3",
   "language": "python",
   "name": "python3"
  },
  "language_info": {
   "codemirror_mode": {
    "name": "ipython",
    "version": 3
   },
   "file_extension": ".py",
   "mimetype": "text/x-python",
   "name": "python",
   "nbconvert_exporter": "python",
   "pygments_lexer": "ipython3",
   "version": "3.10.13"
  }
 },
 "nbformat": 4,
 "nbformat_minor": 2
}
