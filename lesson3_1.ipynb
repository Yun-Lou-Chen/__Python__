{
 "cells": [
  {
   "cell_type": "code",
   "execution_count": null,
   "metadata": {},
   "outputs": [],
   "source": []
  },
  {
   "cell_type": "code",
   "execution_count": null,
   "metadata": {},
   "outputs": [],
   "source": [
    "a = [34,56,78,55,44,33,656,33,77,33,656]\n",
    "for i in a:\n",
    "    print(i)\n",
    " "
   ]
  },
  {
   "cell_type": "code",
   "execution_count": 11,
   "metadata": {},
   "outputs": [
    {
     "name": "stdout",
     "output_type": "stream",
     "text": [
      "[44, 54, 55, 66, 5, 48, 58, 25, 55, 45] Mean(平均) = 45.5\n",
      "[4, 5, 5.5, 6, 5.5, 4.8, 5.8, 2.5, 5.5] Mean(平均) = 4.955555555555556\n",
      "--------------------------\n",
      "[44, 54, 55, 66, 5, 48, 58, 25, 55, 45] STD(標準差) = 17.94590637319708\n",
      "[4, 5, 5.5, 6, 5.5, 4.8, 5.8, 2.5, 5.5] STD(標準差) = 1.098989434788969\n"
     ]
    }
   ],
   "source": [
    "import statistics\n",
    "a = [44,54,55,66,5,48,58,25,55,45]\n",
    "nn = statistics.mean(a)\n",
    "print(f'{a} Mean(平均) = {nn}')\n",
    "b = [4,5,5.5,6,5.5,4.8,5.8,2.5,5.5]\n",
    "nn = statistics.mean(b)\n",
    "print(f'{b} Mean(平均) = {nn}')\n",
    "print('--------------------------')\n",
    "nn = statistics.stdev(a)\n",
    "print(f'{a} STD(標準差) = {nn}')\n",
    "nn = statistics.stdev(b)\n",
    "print(f'{b} STD(標準差) = {nn}')\n",
    "\n",
    "\n"
   ]
  },
  {
   "cell_type": "code",
   "execution_count": 13,
   "metadata": {},
   "outputs": [
    {
     "name": "stdout",
     "output_type": "stream",
     "text": [
      "Age = 2\n",
      "down down\n",
      "close\n"
     ]
    }
   ],
   "source": [
    "age = 2\n",
    "print(f'Age = {age}')\n",
    "if (age >=18):\n",
    "    print('18 up')\n",
    "else:\n",
    "    print('down down')\n",
    "\n",
    "print(\"close\")        "
   ]
  },
  {
   "cell_type": "code",
   "execution_count": 1,
   "metadata": {},
   "outputs": [
    {
     "name": "stdout",
     "output_type": "stream",
     "text": [
      "Age = 21\n",
      "18 up\n",
      "close\n"
     ]
    }
   ],
   "source": [
    "age = 21\n",
    "print(f'Age = {age}')\n",
    "if (age >=18):\n",
    "    print('18 up')\n",
    "else:\n",
    "    print('down down')\n",
    "\n",
    "print(\"close\")   "
   ]
  }
 ],
 "metadata": {
  "kernelspec": {
   "display_name": "Python 3",
   "language": "python",
   "name": "python3"
  },
  "language_info": {
   "codemirror_mode": {
    "name": "ipython",
    "version": 3
   },
   "file_extension": ".py",
   "mimetype": "text/x-python",
   "name": "python",
   "nbconvert_exporter": "python",
   "pygments_lexer": "ipython3",
   "version": "3.10.13"
  }
 },
 "nbformat": 4,
 "nbformat_minor": 2
}
